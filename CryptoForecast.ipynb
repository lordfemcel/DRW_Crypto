{
  "metadata": {
    "kernelspec": {
      "display_name": "Python 3",
      "language": "python",
      "name": "python3"
    },
    "language_info": {
      "codemirror_mode": {
        "name": "ipython",
        "version": 3
      },
      "file_extension": ".py",
      "mimetype": "text/x-python",
      "name": "python",
      "nbconvert_exporter": "python",
      "pygments_lexer": "ipython3",
      "version": "3.11.11"
    },
    "kaggle": {
      "accelerator": "gpu",
      "dataSources": [
        {
          "sourceId": 96164,
          "databundleVersionId": 11418275,
          "sourceType": "competition"
        }
      ],
      "dockerImageVersionId": 31041,
      "isInternetEnabled": true,
      "language": "python",
      "sourceType": "notebook",
      "isGpuEnabled": true
    },
    "papermill": {
      "default_parameters": {},
      "duration": 88.072356,
      "end_time": "2025-06-14T11:26:22.99696",
      "environment_variables": {},
      "exception": null,
      "input_path": "__notebook__.ipynb",
      "output_path": "__notebook__.ipynb",
      "parameters": {},
      "start_time": "2025-06-14T11:24:54.924604",
      "version": "2.6.0"
    },
    "colab": {
      "provenance": []
    }
  },
  "nbformat_minor": 0,
  "nbformat": 4,
  "cells": [
    {
      "source": [
        "# IMPORTANT: SOME KAGGLE DATA SOURCES ARE PRIVATE\n",
        "# RUN THIS CELL IN ORDER TO IMPORT YOUR KAGGLE DATA SOURCES.\n",
        "import kagglehub\n",
        "kagglehub.login()\n"
      ],
      "metadata": {
        "id": "xMg46GyqyYxM"
      },
      "cell_type": "code",
      "outputs": [],
      "execution_count": null
    },
    {
      "source": [
        "# IMPORTANT: RUN THIS CELL IN ORDER TO IMPORT YOUR KAGGLE DATA SOURCES,\n",
        "# THEN FEEL FREE TO DELETE THIS CELL.\n",
        "# NOTE: THIS NOTEBOOK ENVIRONMENT DIFFERS FROM KAGGLE'S PYTHON\n",
        "# ENVIRONMENT SO THERE MAY BE MISSING LIBRARIES USED BY YOUR\n",
        "# NOTEBOOK.\n",
        "\n",
        "drw_crypto_market_prediction_path = kagglehub.competition_download('drw-crypto-market-prediction')\n",
        "\n",
        "print('Data source import complete.')\n"
      ],
      "metadata": {
        "id": "g8MVCxCAyYxS"
      },
      "cell_type": "code",
      "outputs": [],
      "execution_count": null
    },
    {
      "cell_type": "markdown",
      "source": [
        "<a id='Imports'></a>\n",
        "# Imports"
      ],
      "metadata": {
        "id": "WBtf46OoyYxV"
      }
    },
    {
      "cell_type": "code",
      "source": [
        "import sys\n",
        "import pandas as pd\n",
        "import numpy as np\n",
        "from sklearn.model_selection import KFold\n",
        "from xgboost import XGBRegressor\n",
        "from scipy.stats import pearsonr\n",
        "from sklearn.linear_model import SGDRegressor\n",
        "from sklearn.metrics import mean_squared_error\n",
        "from sklearn.preprocessing import StandardScaler"
      ],
      "metadata": {
        "execution": {
          "iopub.status.busy": "2025-07-05T18:02:54.317728Z",
          "iopub.execute_input": "2025-07-05T18:02:54.31811Z",
          "iopub.status.idle": "2025-07-05T18:02:54.322645Z",
          "shell.execute_reply.started": "2025-07-05T18:02:54.318083Z",
          "shell.execute_reply": "2025-07-05T18:02:54.32184Z"
        },
        "papermill": {
          "duration": 7.230706,
          "end_time": "2025-06-14T11:25:06.375184",
          "exception": false,
          "start_time": "2025-06-14T11:24:59.144478",
          "status": "completed"
        },
        "tags": [],
        "trusted": true,
        "id": "z6GnrkNHyYxZ"
      },
      "outputs": [],
      "execution_count": null
    },
    {
      "cell_type": "code",
      "source": [
        "train_df = pd.read_parquet(\"/kaggle/input/drw-crypto-market-prediction/train.parquet\")\n",
        "train_df.head(10)"
      ],
      "metadata": {
        "trusted": true,
        "execution": {
          "iopub.status.busy": "2025-07-05T17:37:12.092433Z",
          "iopub.execute_input": "2025-07-05T17:37:12.092657Z",
          "iopub.status.idle": "2025-07-05T17:37:17.272957Z",
          "shell.execute_reply.started": "2025-07-05T17:37:12.09264Z",
          "shell.execute_reply": "2025-07-05T17:37:17.272182Z"
        },
        "id": "PrniuxA0yYxd",
        "outputId": "84c533ba-a663-41c2-ba0d-9eadc129ee07"
      },
      "outputs": [
        {
          "execution_count": 65,
          "output_type": "execute_result",
          "data": {
            "text/plain": "                     bid_qty  ask_qty  buy_qty  sell_qty   volume        X1  \\\ntimestamp                                                                     \n2023-03-01 00:00:00   15.283    8.425  176.405    44.984  221.389  0.121263   \n2023-03-01 00:01:00   38.590    2.336  525.846   321.950  847.796  0.302841   \n2023-03-01 00:02:00    0.442   60.250  159.227   136.369  295.596  0.167462   \n2023-03-01 00:03:00    4.865   21.016  335.742   124.963  460.705  0.072944   \n2023-03-01 00:04:00   27.158    3.451   98.411    44.407  142.818  0.173820   \n2023-03-01 00:05:00   29.454    5.540  309.371    97.460  406.831 -0.315680   \n2023-03-01 00:06:00    3.478   29.514  100.608   233.525  334.133 -0.253388   \n2023-03-01 00:07:00   16.591    3.230   46.034   218.806  264.840  0.288073   \n2023-03-01 00:08:00    5.560   30.919   40.259    82.518  122.777  0.604698   \n2023-03-01 00:09:00   12.697   14.827  125.650    90.750  216.400  0.659428   \n\n                           X2        X3        X4        X5  ...      X882  \\\ntimestamp                                                    ...             \n2023-03-01 00:00:00 -0.417690  0.005399  0.125948  0.058359  ...  1.925423   \n2023-03-01 00:01:00 -0.049576  0.356667  0.481087  0.237954  ...  1.928569   \n2023-03-01 00:02:00 -0.291212  0.083138  0.206881  0.101727  ...  1.928047   \n2023-03-01 00:03:00 -0.436590 -0.102483  0.017551  0.007149  ...  1.928621   \n2023-03-01 00:04:00 -0.213489  0.096067  0.215709  0.107133  ...  1.927084   \n2023-03-01 00:05:00 -1.084080 -0.854450 -0.750777 -0.379207  ...  1.927302   \n2023-03-01 00:06:00 -0.872270 -0.706323 -0.615929 -0.314296  ...  1.927037   \n2023-03-01 00:07:00  0.191502  0.364450  0.459337  0.225287  ...  1.926313   \n2023-03-01 00:08:00  0.749774  0.965517  1.074676  0.537434  ...  1.924647   \n2023-03-01 00:09:00  0.781122  1.040300  1.164724  0.587270  ...  1.923605   \n\n                         X883      X884      X885      X886      X887  \\\ntimestamp                                                               \n2023-03-01 00:00:00  1.847943  0.005676  0.190791  0.369691  0.377630   \n2023-03-01 00:01:00  1.849468  0.005227  0.184660  0.363642  0.374515   \n2023-03-01 00:02:00  1.849282  0.004796  0.178719  0.357689  0.371424   \n2023-03-01 00:03:00  1.849608  0.004398  0.172967  0.351832  0.368358   \n2023-03-01 00:04:00  1.848950  0.004008  0.167391  0.346066  0.365314   \n2023-03-01 00:05:00  1.849109  0.003692  0.162008  0.340401  0.362300   \n2023-03-01 00:06:00  1.849043  0.003372  0.156788  0.334824  0.359307   \n2023-03-01 00:07:00  1.848763  0.003103  0.151744  0.329342  0.356341   \n2023-03-01 00:08:00  1.848043  0.002833  0.146853  0.323945  0.353397   \n2023-03-01 00:09:00  1.847614  0.002624  0.142133  0.318643  0.350481   \n\n                         X888      X889      X890     label  \ntimestamp                                                    \n2023-03-01 00:00:00  0.210153  0.159183  0.530636  0.562539  \n2023-03-01 00:01:00  0.209573  0.158963  0.530269  0.533686  \n2023-03-01 00:02:00  0.208993  0.158744  0.529901  0.546505  \n2023-03-01 00:03:00  0.208416  0.158524  0.529534  0.357703  \n2023-03-01 00:04:00  0.207839  0.158304  0.529167  0.362452  \n2023-03-01 00:05:00  0.207264  0.158085  0.528800  0.100448  \n2023-03-01 00:06:00  0.206691  0.157866  0.528434  0.178679  \n2023-03-01 00:07:00  0.206119  0.157648  0.528068  0.463684  \n2023-03-01 00:08:00  0.205549  0.157430  0.527701  0.686066  \n2023-03-01 00:09:00  0.204981  0.157212  0.527336  0.637539  \n\n[10 rows x 896 columns]",
            "text/html": "<div>\n<style scoped>\n    .dataframe tbody tr th:only-of-type {\n        vertical-align: middle;\n    }\n\n    .dataframe tbody tr th {\n        vertical-align: top;\n    }\n\n    .dataframe thead th {\n        text-align: right;\n    }\n</style>\n<table border=\"1\" class=\"dataframe\">\n  <thead>\n    <tr style=\"text-align: right;\">\n      <th></th>\n      <th>bid_qty</th>\n      <th>ask_qty</th>\n      <th>buy_qty</th>\n      <th>sell_qty</th>\n      <th>volume</th>\n      <th>X1</th>\n      <th>X2</th>\n      <th>X3</th>\n      <th>X4</th>\n      <th>X5</th>\n      <th>...</th>\n      <th>X882</th>\n      <th>X883</th>\n      <th>X884</th>\n      <th>X885</th>\n      <th>X886</th>\n      <th>X887</th>\n      <th>X888</th>\n      <th>X889</th>\n      <th>X890</th>\n      <th>label</th>\n    </tr>\n    <tr>\n      <th>timestamp</th>\n      <th></th>\n      <th></th>\n      <th></th>\n      <th></th>\n      <th></th>\n      <th></th>\n      <th></th>\n      <th></th>\n      <th></th>\n      <th></th>\n      <th></th>\n      <th></th>\n      <th></th>\n      <th></th>\n      <th></th>\n      <th></th>\n      <th></th>\n      <th></th>\n      <th></th>\n      <th></th>\n      <th></th>\n    </tr>\n  </thead>\n  <tbody>\n    <tr>\n      <th>2023-03-01 00:00:00</th>\n      <td>15.283</td>\n      <td>8.425</td>\n      <td>176.405</td>\n      <td>44.984</td>\n      <td>221.389</td>\n      <td>0.121263</td>\n      <td>-0.417690</td>\n      <td>0.005399</td>\n      <td>0.125948</td>\n      <td>0.058359</td>\n      <td>...</td>\n      <td>1.925423</td>\n      <td>1.847943</td>\n      <td>0.005676</td>\n      <td>0.190791</td>\n      <td>0.369691</td>\n      <td>0.377630</td>\n      <td>0.210153</td>\n      <td>0.159183</td>\n      <td>0.530636</td>\n      <td>0.562539</td>\n    </tr>\n    <tr>\n      <th>2023-03-01 00:01:00</th>\n      <td>38.590</td>\n      <td>2.336</td>\n      <td>525.846</td>\n      <td>321.950</td>\n      <td>847.796</td>\n      <td>0.302841</td>\n      <td>-0.049576</td>\n      <td>0.356667</td>\n      <td>0.481087</td>\n      <td>0.237954</td>\n      <td>...</td>\n      <td>1.928569</td>\n      <td>1.849468</td>\n      <td>0.005227</td>\n      <td>0.184660</td>\n      <td>0.363642</td>\n      <td>0.374515</td>\n      <td>0.209573</td>\n      <td>0.158963</td>\n      <td>0.530269</td>\n      <td>0.533686</td>\n    </tr>\n    <tr>\n      <th>2023-03-01 00:02:00</th>\n      <td>0.442</td>\n      <td>60.250</td>\n      <td>159.227</td>\n      <td>136.369</td>\n      <td>295.596</td>\n      <td>0.167462</td>\n      <td>-0.291212</td>\n      <td>0.083138</td>\n      <td>0.206881</td>\n      <td>0.101727</td>\n      <td>...</td>\n      <td>1.928047</td>\n      <td>1.849282</td>\n      <td>0.004796</td>\n      <td>0.178719</td>\n      <td>0.357689</td>\n      <td>0.371424</td>\n      <td>0.208993</td>\n      <td>0.158744</td>\n      <td>0.529901</td>\n      <td>0.546505</td>\n    </tr>\n    <tr>\n      <th>2023-03-01 00:03:00</th>\n      <td>4.865</td>\n      <td>21.016</td>\n      <td>335.742</td>\n      <td>124.963</td>\n      <td>460.705</td>\n      <td>0.072944</td>\n      <td>-0.436590</td>\n      <td>-0.102483</td>\n      <td>0.017551</td>\n      <td>0.007149</td>\n      <td>...</td>\n      <td>1.928621</td>\n      <td>1.849608</td>\n      <td>0.004398</td>\n      <td>0.172967</td>\n      <td>0.351832</td>\n      <td>0.368358</td>\n      <td>0.208416</td>\n      <td>0.158524</td>\n      <td>0.529534</td>\n      <td>0.357703</td>\n    </tr>\n    <tr>\n      <th>2023-03-01 00:04:00</th>\n      <td>27.158</td>\n      <td>3.451</td>\n      <td>98.411</td>\n      <td>44.407</td>\n      <td>142.818</td>\n      <td>0.173820</td>\n      <td>-0.213489</td>\n      <td>0.096067</td>\n      <td>0.215709</td>\n      <td>0.107133</td>\n      <td>...</td>\n      <td>1.927084</td>\n      <td>1.848950</td>\n      <td>0.004008</td>\n      <td>0.167391</td>\n      <td>0.346066</td>\n      <td>0.365314</td>\n      <td>0.207839</td>\n      <td>0.158304</td>\n      <td>0.529167</td>\n      <td>0.362452</td>\n    </tr>\n    <tr>\n      <th>2023-03-01 00:05:00</th>\n      <td>29.454</td>\n      <td>5.540</td>\n      <td>309.371</td>\n      <td>97.460</td>\n      <td>406.831</td>\n      <td>-0.315680</td>\n      <td>-1.084080</td>\n      <td>-0.854450</td>\n      <td>-0.750777</td>\n      <td>-0.379207</td>\n      <td>...</td>\n      <td>1.927302</td>\n      <td>1.849109</td>\n      <td>0.003692</td>\n      <td>0.162008</td>\n      <td>0.340401</td>\n      <td>0.362300</td>\n      <td>0.207264</td>\n      <td>0.158085</td>\n      <td>0.528800</td>\n      <td>0.100448</td>\n    </tr>\n    <tr>\n      <th>2023-03-01 00:06:00</th>\n      <td>3.478</td>\n      <td>29.514</td>\n      <td>100.608</td>\n      <td>233.525</td>\n      <td>334.133</td>\n      <td>-0.253388</td>\n      <td>-0.872270</td>\n      <td>-0.706323</td>\n      <td>-0.615929</td>\n      <td>-0.314296</td>\n      <td>...</td>\n      <td>1.927037</td>\n      <td>1.849043</td>\n      <td>0.003372</td>\n      <td>0.156788</td>\n      <td>0.334824</td>\n      <td>0.359307</td>\n      <td>0.206691</td>\n      <td>0.157866</td>\n      <td>0.528434</td>\n      <td>0.178679</td>\n    </tr>\n    <tr>\n      <th>2023-03-01 00:07:00</th>\n      <td>16.591</td>\n      <td>3.230</td>\n      <td>46.034</td>\n      <td>218.806</td>\n      <td>264.840</td>\n      <td>0.288073</td>\n      <td>0.191502</td>\n      <td>0.364450</td>\n      <td>0.459337</td>\n      <td>0.225287</td>\n      <td>...</td>\n      <td>1.926313</td>\n      <td>1.848763</td>\n      <td>0.003103</td>\n      <td>0.151744</td>\n      <td>0.329342</td>\n      <td>0.356341</td>\n      <td>0.206119</td>\n      <td>0.157648</td>\n      <td>0.528068</td>\n      <td>0.463684</td>\n    </tr>\n    <tr>\n      <th>2023-03-01 00:08:00</th>\n      <td>5.560</td>\n      <td>30.919</td>\n      <td>40.259</td>\n      <td>82.518</td>\n      <td>122.777</td>\n      <td>0.604698</td>\n      <td>0.749774</td>\n      <td>0.965517</td>\n      <td>1.074676</td>\n      <td>0.537434</td>\n      <td>...</td>\n      <td>1.924647</td>\n      <td>1.848043</td>\n      <td>0.002833</td>\n      <td>0.146853</td>\n      <td>0.323945</td>\n      <td>0.353397</td>\n      <td>0.205549</td>\n      <td>0.157430</td>\n      <td>0.527701</td>\n      <td>0.686066</td>\n    </tr>\n    <tr>\n      <th>2023-03-01 00:09:00</th>\n      <td>12.697</td>\n      <td>14.827</td>\n      <td>125.650</td>\n      <td>90.750</td>\n      <td>216.400</td>\n      <td>0.659428</td>\n      <td>0.781122</td>\n      <td>1.040300</td>\n      <td>1.164724</td>\n      <td>0.587270</td>\n      <td>...</td>\n      <td>1.923605</td>\n      <td>1.847614</td>\n      <td>0.002624</td>\n      <td>0.142133</td>\n      <td>0.318643</td>\n      <td>0.350481</td>\n      <td>0.204981</td>\n      <td>0.157212</td>\n      <td>0.527336</td>\n      <td>0.637539</td>\n    </tr>\n  </tbody>\n</table>\n<p>10 rows × 896 columns</p>\n</div>"
          },
          "metadata": {}
        }
      ],
      "execution_count": null
    },
    {
      "cell_type": "code",
      "source": [
        "train_df.shape"
      ],
      "metadata": {
        "trusted": true,
        "execution": {
          "iopub.status.busy": "2025-07-05T17:37:17.274158Z",
          "iopub.execute_input": "2025-07-05T17:37:17.27449Z",
          "iopub.status.idle": "2025-07-05T17:37:17.279286Z",
          "shell.execute_reply.started": "2025-07-05T17:37:17.274472Z",
          "shell.execute_reply": "2025-07-05T17:37:17.278642Z"
        },
        "id": "lBz34DNvyYxg",
        "outputId": "c67da36f-835d-49e7-dbfd-081f7e41b93c"
      },
      "outputs": [
        {
          "execution_count": 66,
          "output_type": "execute_result",
          "data": {
            "text/plain": "(525887, 896)"
          },
          "metadata": {}
        }
      ],
      "execution_count": null
    },
    {
      "cell_type": "code",
      "source": [
        "train_df.isnull().sum()"
      ],
      "metadata": {
        "trusted": true,
        "execution": {
          "iopub.status.busy": "2025-07-05T17:37:17.279927Z",
          "iopub.execute_input": "2025-07-05T17:37:17.280111Z",
          "iopub.status.idle": "2025-07-05T17:37:18.667319Z",
          "shell.execute_reply.started": "2025-07-05T17:37:17.280093Z",
          "shell.execute_reply": "2025-07-05T17:37:18.666607Z"
        },
        "id": "nq0rA4wmyYxi",
        "outputId": "439d63da-b4ab-4e39-deaa-39143a6c9837"
      },
      "outputs": [
        {
          "execution_count": 67,
          "output_type": "execute_result",
          "data": {
            "text/plain": "bid_qty     0\nask_qty     0\nbuy_qty     0\nsell_qty    0\nvolume      0\n           ..\nX887        0\nX888        0\nX889        0\nX890        0\nlabel       0\nLength: 896, dtype: int64"
          },
          "metadata": {}
        }
      ],
      "execution_count": null
    },
    {
      "cell_type": "code",
      "source": [
        "test_df = pd.read_parquet(\"/kaggle/input/drw-crypto-market-prediction/test.parquet\")"
      ],
      "metadata": {
        "trusted": true,
        "execution": {
          "iopub.status.busy": "2025-07-05T17:37:18.668775Z",
          "iopub.execute_input": "2025-07-05T17:37:18.669032Z",
          "iopub.status.idle": "2025-07-05T17:37:26.148037Z",
          "shell.execute_reply.started": "2025-07-05T17:37:18.669014Z",
          "shell.execute_reply": "2025-07-05T17:37:26.147379Z"
        },
        "id": "-BPpx0xIyYxj"
      },
      "outputs": [],
      "execution_count": null
    },
    {
      "cell_type": "code",
      "source": [
        "test_df.shape"
      ],
      "metadata": {
        "trusted": true,
        "execution": {
          "iopub.status.busy": "2025-07-05T17:37:26.148816Z",
          "iopub.execute_input": "2025-07-05T17:37:26.149036Z",
          "iopub.status.idle": "2025-07-05T17:37:26.154098Z",
          "shell.execute_reply.started": "2025-07-05T17:37:26.149019Z",
          "shell.execute_reply": "2025-07-05T17:37:26.153395Z"
        },
        "id": "BNn6XQdeyYxk",
        "outputId": "05683d17-5e7b-40bf-d6b0-5bcd8d928ee4"
      },
      "outputs": [
        {
          "execution_count": 69,
          "output_type": "execute_result",
          "data": {
            "text/plain": "(538150, 896)"
          },
          "metadata": {}
        }
      ],
      "execution_count": null
    },
    {
      "cell_type": "code",
      "source": [
        "train_df['imbalance']=(train_df['buy_qty']-train_df['sell_qty'])/(train_df['buy_qty']+train_df['sell_qty']+1e-6)\n",
        "\n",
        "test_df['imbalance']=(test_df['buy_qty']-test_df['sell_qty'])/(test_df['buy_qty']+test_df['sell_qty']+1e-6)\n",
        "\n"
      ],
      "metadata": {
        "trusted": true,
        "execution": {
          "iopub.status.busy": "2025-07-05T17:37:26.154904Z",
          "iopub.execute_input": "2025-07-05T17:37:26.155456Z",
          "iopub.status.idle": "2025-07-05T17:37:26.197029Z",
          "shell.execute_reply.started": "2025-07-05T17:37:26.155431Z",
          "shell.execute_reply": "2025-07-05T17:37:26.196422Z"
        },
        "id": "8oh3u85eyYxl"
      },
      "outputs": [],
      "execution_count": null
    },
    {
      "cell_type": "code",
      "source": [
        "import optuna\n",
        "import xgboost as xgb\n",
        "from sklearn.model_selection import train_test_split\n",
        "\n",
        "from scipy.stats import pearsonr\n",
        "import numpy as np\n",
        "\n",
        "FEATURES = [\"X863\", \"X856\", \"X598\", \"X862\", \"X385\", \"X852\", \"X603\", \"X860\", \"X674\",\n",
        "            \"X415\", \"X345\", \"X855\", \"X174\", \"X302\", \"X178\", \"X168\", \"X612\",\n",
        "            \"X888\", \"X421\", \"X333\",\"imbalance\"]\n",
        "\n",
        "LABEL_COLUMN = \"label\"\n",
        "\n",
        "X=train_df[FEATURES]\n",
        "y=train_df[LABEL_COLUMN]\n",
        "X_test = test_df[FEATURES]\n",
        "\n",
        "# Split data\n",
        "X_train, X_valid, y_train, y_valid = train_test_split(X, y, test_size=0.2, random_state=42)\n",
        "\n",
        "def objective(trial):\n",
        "    params = {\n",
        "        \"tree_method\": \"gpu_hist\",\n",
        "        \"device\": \"cuda\",\n",
        "        \"verbosity\": 0,\n",
        "        \"random_state\": 42,\n",
        "        \"n_jobs\": -1,\n",
        "        \"learning_rate\": trial.suggest_float(\"learning_rate\", 0.01, 0.3, log=True),\n",
        "        \"max_depth\": trial.suggest_int(\"max_depth\", 3, 20),\n",
        "        \"max_leaves\": trial.suggest_int(\"max_leaves\", 8, 64),\n",
        "        \"min_child_weight\": trial.suggest_int(\"min_child_weight\", 1, 30),\n",
        "        \"subsample\": trial.suggest_float(\"subsample\", 0.3, 1.0),\n",
        "        \"colsample_bytree\": trial.suggest_float(\"colsample_bytree\", 0.4, 1.0),\n",
        "        \"colsample_bylevel\": trial.suggest_float(\"colsample_bylevel\", 0.3, 1.0),\n",
        "        \"colsample_bynode\": trial.suggest_float(\"colsample_bynode\", 0.3, 1.0),\n",
        "        \"gamma\": trial.suggest_float(\"gamma\", 0, 5.0),\n",
        "        \"reg_alpha\": trial.suggest_float(\"reg_alpha\", 0, 50.0),\n",
        "        \"reg_lambda\": trial.suggest_float(\"reg_lambda\", 0, 80.0),\n",
        "        \"n_estimators\": 1667\n",
        "    }\n",
        "\n",
        "    model = xgb.XGBRegressor(early_stopping_rounds=50,**params)\n",
        "\n",
        "    model.fit(\n",
        "        X_train,\n",
        "        y_train,\n",
        "        eval_set=[(X_valid, y_valid)],\n",
        "\n",
        "\n",
        "        verbose=False\n",
        "    )\n",
        "\n",
        "    preds = model.predict(X_valid)\n",
        "    r, _ = pearsonr(y_valid, preds)\n",
        "\n",
        "    # Maximize correlation\n",
        "    return r\n",
        "\n",
        "# Create and run Optuna study\n",
        "study = optuna.create_study(direction=\"maximize\")\n",
        "study.optimize(objective, n_trials=50)\n",
        "\n",
        "#  results\n",
        "print(\"Best Pearson correlation:\", study.best_value)\n",
        "print(\"Best Parameters:\", study.best_params)\n"
      ],
      "metadata": {
        "trusted": true,
        "execution": {
          "iopub.status.busy": "2025-07-05T17:37:26.197813Z",
          "iopub.execute_input": "2025-07-05T17:37:26.198049Z",
          "iopub.status.idle": "2025-07-05T17:45:49.92636Z",
          "shell.execute_reply.started": "2025-07-05T17:37:26.198031Z",
          "shell.execute_reply": "2025-07-05T17:45:49.92545Z"
        },
        "id": "NZWHIYIWyYxl",
        "outputId": "ab6b8381-b775-49da-feb5-3a27feab676b"
      },
      "outputs": [
        {
          "name": "stderr",
          "text": "[I 2025-07-05 17:37:26,358] A new study created in memory with name: no-name-9e8e06e2-d90b-4a08-ac93-cfa86c1bd3a5\n[I 2025-07-05 17:37:37,729] Trial 0 finished with value: 0.9015988698835706 and parameters: {'learning_rate': 0.11450078728256348, 'max_depth': 17, 'max_leaves': 64, 'min_child_weight': 8, 'subsample': 0.9779568217113908, 'colsample_bytree': 0.5012026561235785, 'colsample_bylevel': 0.46488381941255663, 'colsample_bynode': 0.4690483189685495, 'gamma': 0.8673086856090628, 'reg_alpha': 17.17141317052307, 'reg_lambda': 20.012773086142932}. Best is trial 0 with value: 0.9015988698835706.\n[I 2025-07-05 17:37:46,070] Trial 1 finished with value: 0.8590704097383723 and parameters: {'learning_rate': 0.06793572238566362, 'max_depth': 16, 'max_leaves': 49, 'min_child_weight': 12, 'subsample': 0.8986073269245325, 'colsample_bytree': 0.8089918287477647, 'colsample_bylevel': 0.38341004855474237, 'colsample_bynode': 0.9844820159490963, 'gamma': 3.950688883131904, 'reg_alpha': 8.676244012774731, 'reg_lambda': 52.37839953748127}. Best is trial 0 with value: 0.9015988698835706.\n[I 2025-07-05 17:37:56,038] Trial 2 finished with value: 0.8427481376022022 and parameters: {'learning_rate': 0.055106235919412175, 'max_depth': 7, 'max_leaves': 25, 'min_child_weight': 12, 'subsample': 0.5454274948923894, 'colsample_bytree': 0.881023911196362, 'colsample_bylevel': 0.45967362597478456, 'colsample_bynode': 0.9370731202053033, 'gamma': 2.4610284547570926, 'reg_alpha': 25.435447478717123, 'reg_lambda': 38.02165642317994}. Best is trial 0 with value: 0.9015988698835706.\n[I 2025-07-05 17:38:04,869] Trial 3 finished with value: 0.8774644026067009 and parameters: {'learning_rate': 0.28135653647165915, 'max_depth': 16, 'max_leaves': 16, 'min_child_weight': 7, 'subsample': 0.5473083155900251, 'colsample_bytree': 0.5729259911552936, 'colsample_bylevel': 0.6276084682963987, 'colsample_bynode': 0.5587305842796566, 'gamma': 0.8080808676536999, 'reg_alpha': 49.92180587178594, 'reg_lambda': 40.4827936508276}. Best is trial 0 with value: 0.9015988698835706.\n[I 2025-07-05 17:38:12,341] Trial 4 finished with value: 0.7942813987993618 and parameters: {'learning_rate': 0.26186835743489045, 'max_depth': 13, 'max_leaves': 13, 'min_child_weight': 2, 'subsample': 0.8550024962184763, 'colsample_bytree': 0.5863495371169648, 'colsample_bylevel': 0.4770080337411267, 'colsample_bynode': 0.6363056360203443, 'gamma': 3.748196414741681, 'reg_alpha': 39.321004174947454, 'reg_lambda': 74.0453245035423}. Best is trial 0 with value: 0.9015988698835706.\n[I 2025-07-05 17:38:20,304] Trial 5 finished with value: 0.8680942035312122 and parameters: {'learning_rate': 0.21520169067352254, 'max_depth': 12, 'max_leaves': 25, 'min_child_weight': 11, 'subsample': 0.3168951153928234, 'colsample_bytree': 0.7400164125894534, 'colsample_bylevel': 0.8942560271451752, 'colsample_bynode': 0.4878970846835935, 'gamma': 2.9266320310611738, 'reg_alpha': 18.373979214430825, 'reg_lambda': 38.650750924280274}. Best is trial 0 with value: 0.9015988698835706.\n[I 2025-07-05 17:38:30,579] Trial 6 finished with value: 0.8606925614874699 and parameters: {'learning_rate': 0.04197074305529153, 'max_depth': 8, 'max_leaves': 62, 'min_child_weight': 24, 'subsample': 0.9427484490422025, 'colsample_bytree': 0.6734308002482936, 'colsample_bylevel': 0.7987154743809742, 'colsample_bynode': 0.7538990302775431, 'gamma': 3.5337616483142495, 'reg_alpha': 35.889398673840766, 'reg_lambda': 40.44868749882946}. Best is trial 0 with value: 0.9015988698835706.\n[I 2025-07-05 17:38:40,935] Trial 7 finished with value: 0.7698951590182648 and parameters: {'learning_rate': 0.025613393969153308, 'max_depth': 19, 'max_leaves': 24, 'min_child_weight': 29, 'subsample': 0.5740803724889161, 'colsample_bytree': 0.5416863597083347, 'colsample_bylevel': 0.9935704120251645, 'colsample_bynode': 0.5018747720164305, 'gamma': 4.490365190974076, 'reg_alpha': 20.466443241864095, 'reg_lambda': 11.652148114970826}. Best is trial 0 with value: 0.9015988698835706.\n[I 2025-07-05 17:38:53,231] Trial 8 finished with value: 0.8546507687061685 and parameters: {'learning_rate': 0.0382850273998681, 'max_depth': 13, 'max_leaves': 35, 'min_child_weight': 30, 'subsample': 0.5622526442297388, 'colsample_bytree': 0.7466512350054473, 'colsample_bylevel': 0.8731503144509327, 'colsample_bynode': 0.5844744521569673, 'gamma': 0.10724618485330184, 'reg_alpha': 8.251771795090118, 'reg_lambda': 46.41372139625109}. Best is trial 0 with value: 0.9015988698835706.\n[I 2025-07-05 17:39:02,707] Trial 9 finished with value: 0.789615623302335 and parameters: {'learning_rate': 0.04855559517460395, 'max_depth': 10, 'max_leaves': 23, 'min_child_weight': 6, 'subsample': 0.899162677824753, 'colsample_bytree': 0.9107786151447443, 'colsample_bylevel': 0.4811490539796246, 'colsample_bynode': 0.38834210711694467, 'gamma': 4.2460654553936426, 'reg_alpha': 17.13149064927319, 'reg_lambda': 31.26642223736291}. Best is trial 0 with value: 0.9015988698835706.\n[I 2025-07-05 17:39:11,279] Trial 10 finished with value: 0.7716550656282577 and parameters: {'learning_rate': 0.11482782176880828, 'max_depth': 4, 'max_leaves': 62, 'min_child_weight': 19, 'subsample': 0.7443516213696221, 'colsample_bytree': 0.4159595750208374, 'colsample_bylevel': 0.6201651914014985, 'colsample_bynode': 0.35842024344274864, 'gamma': 1.4720934543304267, 'reg_alpha': 4.300506342570987, 'reg_lambda': 10.669152380255234}. Best is trial 0 with value: 0.9015988698835706.\n[I 2025-07-05 17:39:19,366] Trial 11 finished with value: 0.45552669046243016 and parameters: {'learning_rate': 0.010806432887787015, 'max_depth': 20, 'max_leaves': 8, 'min_child_weight': 6, 'subsample': 0.3958014309381063, 'colsample_bytree': 0.428529875032161, 'colsample_bylevel': 0.6335556145148608, 'colsample_bynode': 0.7303020665661649, 'gamma': 0.37201728287194413, 'reg_alpha': 45.91816563163438, 'reg_lambda': 22.683556962721582}. Best is trial 0 with value: 0.9015988698835706.\n[I 2025-07-05 17:39:29,070] Trial 12 finished with value: 0.8841591568947823 and parameters: {'learning_rate': 0.1747398945284604, 'max_depth': 16, 'max_leaves': 46, 'min_child_weight': 2, 'subsample': 0.7205305961229519, 'colsample_bytree': 0.5350009067782339, 'colsample_bylevel': 0.31684853998765394, 'colsample_bynode': 0.5095475195729534, 'gamma': 1.222169088567685, 'reg_alpha': 30.213791405718315, 'reg_lambda': 61.23086146546885}. Best is trial 0 with value: 0.9015988698835706.\n[I 2025-07-05 17:39:38,987] Trial 13 finished with value: 0.8689610699423647 and parameters: {'learning_rate': 0.12466085116275119, 'max_depth': 16, 'max_leaves': 51, 'min_child_weight': 2, 'subsample': 0.7451642915638668, 'colsample_bytree': 0.49510265999837577, 'colsample_bylevel': 0.3046368273971764, 'colsample_bynode': 0.3095946874234359, 'gamma': 1.5986570540265463, 'reg_alpha': 30.197072326281976, 'reg_lambda': 62.95593917099932}. Best is trial 0 with value: 0.9015988698835706.\n[I 2025-07-05 17:39:48,858] Trial 14 finished with value: 0.8696131199723935 and parameters: {'learning_rate': 0.12960534566276388, 'max_depth': 18, 'max_leaves': 46, 'min_child_weight': 1, 'subsample': 0.9923854531535401, 'colsample_bytree': 0.6456370135694409, 'colsample_bylevel': 0.3177135180565252, 'colsample_bynode': 0.446780265178505, 'gamma': 1.4319448162958783, 'reg_alpha': 27.148322828736898, 'reg_lambda': 78.95725199205738}. Best is trial 0 with value: 0.9015988698835706.\n[I 2025-07-05 17:39:57,418] Trial 15 finished with value: 0.8836424232506659 and parameters: {'learning_rate': 0.16924658362677905, 'max_depth': 17, 'max_leaves': 39, 'min_child_weight': 17, 'subsample': 0.782019242765209, 'colsample_bytree': 0.48645501884069076, 'colsample_bylevel': 0.5356321330945378, 'colsample_bynode': 0.7608835737471311, 'gamma': 2.2621404825318168, 'reg_alpha': 13.489554409060588, 'reg_lambda': 21.923106268232576}. Best is trial 0 with value: 0.9015988698835706.\n[I 2025-07-05 17:40:09,335] Trial 16 finished with value: 0.9067078999309235 and parameters: {'learning_rate': 0.08218841774141611, 'max_depth': 14, 'max_leaves': 55, 'min_child_weight': 7, 'subsample': 0.6632937006551366, 'colsample_bytree': 0.9982244288535256, 'colsample_bylevel': 0.3940165344636125, 'colsample_bynode': 0.4255090204406691, 'gamma': 0.8127896460979741, 'reg_alpha': 34.997304783410684, 'reg_lambda': 0.9070682323633257}. Best is trial 16 with value: 0.9067078999309235.\n[I 2025-07-05 17:40:17,821] Trial 17 finished with value: 0.8528338945298461 and parameters: {'learning_rate': 0.08250202274527042, 'max_depth': 14, 'max_leaves': 56, 'min_child_weight': 9, 'subsample': 0.6424387233805079, 'colsample_bytree': 0.9553186806286336, 'colsample_bylevel': 0.727723552654397, 'colsample_bynode': 0.4127942972677006, 'gamma': 4.999285183972926, 'reg_alpha': 38.8615996745151, 'reg_lambda': 0.41255944340764916}. Best is trial 16 with value: 0.9067078999309235.\n[I 2025-07-05 17:40:32,186] Trial 18 finished with value: 0.8705033805635995 and parameters: {'learning_rate': 0.026751575118195096, 'max_depth': 10, 'max_leaves': 56, 'min_child_weight': 15, 'subsample': 0.4566256803885875, 'colsample_bytree': 0.9945484730133745, 'colsample_bylevel': 0.4085641984367615, 'colsample_bynode': 0.6673964364738978, 'gamma': 0.7044672750705745, 'reg_alpha': 33.957203783441955, 'reg_lambda': 0.88511853978126}. Best is trial 16 with value: 0.9067078999309235.\n[I 2025-07-05 17:40:45,555] Trial 19 finished with value: 0.9257627980990821 and parameters: {'learning_rate': 0.08103841159729612, 'max_depth': 14, 'max_leaves': 64, 'min_child_weight': 5, 'subsample': 0.8101876231312465, 'colsample_bytree': 0.8286495638458585, 'colsample_bylevel': 0.5455654290501595, 'colsample_bynode': 0.3133248641759009, 'gamma': 0.749411753845315, 'reg_alpha': 0.6852848519045267, 'reg_lambda': 15.508996816228516}. Best is trial 19 with value: 0.9257627980990821.\n[I 2025-07-05 17:40:55,635] Trial 20 finished with value: 0.8577572802888198 and parameters: {'learning_rate': 0.08035977390360265, 'max_depth': 14, 'max_leaves': 38, 'min_child_weight': 21, 'subsample': 0.6563704763290701, 'colsample_bytree': 0.8380167265330345, 'colsample_bylevel': 0.5552015468510151, 'colsample_bynode': 0.33128724956555405, 'gamma': 1.9219078575714383, 'reg_alpha': 42.70030805952866, 'reg_lambda': 7.946685321369898}. Best is trial 19 with value: 0.9257627980990821.\n[I 2025-07-05 17:41:07,549] Trial 21 finished with value: 0.92764084282054 and parameters: {'learning_rate': 0.09316785197561978, 'max_depth': 11, 'max_leaves': 63, 'min_child_weight': 5, 'subsample': 0.818884702448466, 'colsample_bytree': 0.8173463313934615, 'colsample_bylevel': 0.5407749626515325, 'colsample_bynode': 0.4287308789818763, 'gamma': 0.8997948712374604, 'reg_alpha': 0.677319027819712, 'reg_lambda': 18.942654065217482}. Best is trial 21 with value: 0.92764084282054.\n[I 2025-07-05 17:41:20,915] Trial 22 finished with value: 0.9397481319487528 and parameters: {'learning_rate': 0.08407338116656254, 'max_depth': 10, 'max_leaves': 57, 'min_child_weight': 5, 'subsample': 0.8288207709624233, 'colsample_bytree': 0.814474890322773, 'colsample_bylevel': 0.7121463785164664, 'colsample_bynode': 0.3041080394884239, 'gamma': 0.14480597720046173, 'reg_alpha': 2.352354410430081, 'reg_lambda': 14.90856781336607}. Best is trial 22 with value: 0.9397481319487528.\n[I 2025-07-05 17:41:34,631] Trial 23 finished with value: 0.9231623367435624 and parameters: {'learning_rate': 0.06332764454790944, 'max_depth': 10, 'max_leaves': 59, 'min_child_weight': 4, 'subsample': 0.8279549149256834, 'colsample_bytree': 0.7942165685329693, 'colsample_bylevel': 0.7076315552435076, 'colsample_bynode': 0.31525148215049825, 'gamma': 0.08915184277104667, 'reg_alpha': 1.627586988771712, 'reg_lambda': 30.09947068321827}. Best is trial 22 with value: 0.9397481319487528.\n[I 2025-07-05 17:41:49,916] Trial 24 finished with value: 0.8821003338153189 and parameters: {'learning_rate': 0.030157880413655237, 'max_depth': 8, 'max_leaves': 64, 'min_child_weight': 4, 'subsample': 0.810839662104143, 'colsample_bytree': 0.870134980893242, 'colsample_bylevel': 0.5558097375988266, 'colsample_bynode': 0.37090458607333054, 'gamma': 0.46160124858625956, 'reg_alpha': 0.4486071766334332, 'reg_lambda': 15.507725995089139}. Best is trial 22 with value: 0.9397481319487528.\n[I 2025-07-05 17:41:59,941] Trial 25 finished with value: 0.908736486562439 and parameters: {'learning_rate': 0.09734375278530068, 'max_depth': 6, 'max_leaves': 52, 'min_child_weight': 4, 'subsample': 0.8483616051840172, 'colsample_bytree': 0.7526259482048122, 'colsample_bylevel': 0.718232043396192, 'colsample_bynode': 0.36949101973146736, 'gamma': 1.1640883756392166, 'reg_alpha': 7.913127003326927, 'reg_lambda': 30.97472849894818}. Best is trial 22 with value: 0.9397481319487528.\n[I 2025-07-05 17:42:14,116] Trial 26 finished with value: 0.84550198332239 and parameters: {'learning_rate': 0.018238839040702212, 'max_depth': 11, 'max_leaves': 58, 'min_child_weight': 9, 'subsample': 0.8976127469915587, 'colsample_bytree': 0.8049392641915546, 'colsample_bylevel': 0.5855051487594038, 'colsample_bynode': 0.8660111775595418, 'gamma': 2.861496161949288, 'reg_alpha': 4.558232247311526, 'reg_lambda': 25.071379254850864}. Best is trial 22 with value: 0.9397481319487528.\n[I 2025-07-05 17:42:26,719] Trial 27 finished with value: 0.9509403816463899 and parameters: {'learning_rate': 0.16179124019845356, 'max_depth': 9, 'max_leaves': 43, 'min_child_weight': 14, 'subsample': 0.7843720756444937, 'colsample_bytree': 0.9347987038895025, 'colsample_bylevel': 0.686192612370224, 'colsample_bynode': 0.3128341809810309, 'gamma': 0.029644883481327766, 'reg_alpha': 11.90164822657589, 'reg_lambda': 14.51350944747825}. Best is trial 27 with value: 0.9509403816463899.\n[I 2025-07-05 17:42:37,046] Trial 28 finished with value: 0.9441569489978159 and parameters: {'learning_rate': 0.15571608803428658, 'max_depth': 5, 'max_leaves': 45, 'min_child_weight': 14, 'subsample': 0.7021376949059613, 'colsample_bytree': 0.9354286862226374, 'colsample_bylevel': 0.7813137293749851, 'colsample_bynode': 0.5510836717610166, 'gamma': 0.017989996945260378, 'reg_alpha': 5.115668094504803, 'reg_lambda': 5.398846297920722}. Best is trial 27 with value: 0.9509403816463899.\n[I 2025-07-05 17:42:44,907] Trial 29 finished with value: 0.8013849234667728 and parameters: {'learning_rate': 0.16192438681455792, 'max_depth': 3, 'max_leaves': 33, 'min_child_weight': 14, 'subsample': 0.7076060449530854, 'colsample_bytree': 0.9123685566866319, 'colsample_bylevel': 0.7946003599800274, 'colsample_bynode': 0.5387744812614499, 'gamma': 0.04848323558585642, 'reg_alpha': 12.191210053504646, 'reg_lambda': 6.816814040659903}. Best is trial 27 with value: 0.9509403816463899.\n[I 2025-07-05 17:42:53,788] Trial 30 finished with value: 0.9420143664613214 and parameters: {'learning_rate': 0.21433452163220126, 'max_depth': 6, 'max_leaves': 42, 'min_child_weight': 22, 'subsample': 0.9449275557621495, 'colsample_bytree': 0.9460418499011239, 'colsample_bylevel': 0.7718606837707754, 'colsample_bynode': 0.6179960450434616, 'gamma': 0.4145966132125276, 'reg_alpha': 12.985055363600912, 'reg_lambda': 5.1599763875142}. Best is trial 27 with value: 0.9509403816463899.\n[I 2025-07-05 17:43:02,817] Trial 31 finished with value: 0.9387551771190037 and parameters: {'learning_rate': 0.21513000595334303, 'max_depth': 5, 'max_leaves': 42, 'min_child_weight': 23, 'subsample': 0.9446580879476532, 'colsample_bytree': 0.9288102864019069, 'colsample_bylevel': 0.8016579477923863, 'colsample_bynode': 0.6303713028041389, 'gamma': 0.39997798047121863, 'reg_alpha': 12.65956611671126, 'reg_lambda': 5.923435798933568}. Best is trial 27 with value: 0.9509403816463899.\n[I 2025-07-05 17:43:13,475] Trial 32 finished with value: 0.9383152508282059 and parameters: {'learning_rate': 0.14090936112023217, 'max_depth': 8, 'max_leaves': 31, 'min_child_weight': 17, 'subsample': 0.8836215587589842, 'colsample_bytree': 0.9601930675737191, 'colsample_bylevel': 0.6873912043839076, 'colsample_bynode': 0.6818756726843808, 'gamma': 0.3563358070529069, 'reg_alpha': 6.436185557904828, 'reg_lambda': 14.60956695529774}. Best is trial 27 with value: 0.9509403816463899.\n[I 2025-07-05 17:43:25,966] Trial 33 finished with value: 0.9638404214746017 and parameters: {'learning_rate': 0.2138910814136458, 'max_depth': 6, 'max_leaves': 42, 'min_child_weight': 27, 'subsample': 0.9465289683944015, 'colsample_bytree': 0.8710090055413087, 'colsample_bylevel': 0.7793963103875241, 'colsample_bynode': 0.8382256074060366, 'gamma': 0.02743232297636123, 'reg_alpha': 10.640311986292705, 'reg_lambda': 4.167358182384419}. Best is trial 33 with value: 0.9638404214746017.\n[I 2025-07-05 17:43:32,096] Trial 34 finished with value: 0.9288568144986138 and parameters: {'learning_rate': 0.21915487453698268, 'max_depth': 6, 'max_leaves': 42, 'min_child_weight': 27, 'subsample': 0.9382638920980212, 'colsample_bytree': 0.8681095076583543, 'colsample_bylevel': 0.7594994447117319, 'colsample_bynode': 0.8429808395779468, 'gamma': 0.5765960820553099, 'reg_alpha': 21.972744829772402, 'reg_lambda': 4.405767037425891}. Best is trial 33 with value: 0.9638404214746017.\n[I 2025-07-05 17:43:36,006] Trial 35 finished with value: 0.916813148244179 and parameters: {'learning_rate': 0.2909927013850722, 'max_depth': 6, 'max_leaves': 45, 'min_child_weight': 24, 'subsample': 0.9927592892777771, 'colsample_bytree': 0.9544880037600814, 'colsample_bylevel': 0.8537486216621218, 'colsample_bynode': 0.830557766299105, 'gamma': 1.0515636829831554, 'reg_alpha': 15.54935147317946, 'reg_lambda': 9.821875232460052}. Best is trial 33 with value: 0.9638404214746017.\n[I 2025-07-05 17:43:44,878] Trial 36 finished with value: 0.9213040576621212 and parameters: {'learning_rate': 0.23621005703145587, 'max_depth': 4, 'max_leaves': 49, 'min_child_weight': 27, 'subsample': 0.9464241716121448, 'colsample_bytree': 0.8994774462528053, 'colsample_bylevel': 0.6714169438571853, 'colsample_bynode': 0.9521317378753223, 'gamma': 0.28042590102533793, 'reg_alpha': 10.685347931815333, 'reg_lambda': 3.7614787916773604}. Best is trial 33 with value: 0.9638404214746017.\n[I 2025-07-05 17:43:55,443] Trial 37 finished with value: 0.9450544530687754 and parameters: {'learning_rate': 0.18705747754389082, 'max_depth': 7, 'max_leaves': 29, 'min_child_weight': 12, 'subsample': 0.6056909355971626, 'colsample_bytree': 0.8612950917856699, 'colsample_bylevel': 0.9617194360712564, 'colsample_bynode': 0.5861582512172107, 'gamma': 0.027159717543815336, 'reg_alpha': 10.182688664646946, 'reg_lambda': 19.891674943916165}. Best is trial 33 with value: 0.9638404214746017.\n[I 2025-07-05 17:44:06,210] Trial 38 finished with value: 0.9404510539699297 and parameters: {'learning_rate': 0.1823714093999551, 'max_depth': 7, 'max_leaves': 29, 'min_child_weight': 13, 'subsample': 0.6084221221645966, 'colsample_bytree': 0.8589297332756838, 'colsample_bylevel': 0.9542181700521706, 'colsample_bynode': 0.5829975558820785, 'gamma': 0.03161791959115747, 'reg_alpha': 21.489563199055496, 'reg_lambda': 26.180294044327162}. Best is trial 33 with value: 0.9638404214746017.\n[I 2025-07-05 17:44:15,249] Trial 39 finished with value: 0.9141322640482181 and parameters: {'learning_rate': 0.14532319102908106, 'max_depth': 9, 'max_leaves': 36, 'min_child_weight': 10, 'subsample': 0.4855622322301346, 'colsample_bytree': 0.7760629923395439, 'colsample_bylevel': 0.9191920920140897, 'colsample_bynode': 0.8984118117659055, 'gamma': 1.8506011756845178, 'reg_alpha': 9.400134471853761, 'reg_lambda': 11.649795702614819}. Best is trial 33 with value: 0.9638404214746017.\n[I 2025-07-05 17:44:23,095] Trial 40 finished with value: 0.8429477649773188 and parameters: {'learning_rate': 0.297794085120256, 'max_depth': 3, 'max_leaves': 20, 'min_child_weight': 12, 'subsample': 0.6893239986092567, 'colsample_bytree': 0.6846054232671233, 'colsample_bylevel': 0.8321160216330785, 'colsample_bynode': 0.7053432833762825, 'gamma': 0.9775401646051239, 'reg_alpha': 16.491582726623832, 'reg_lambda': 18.738822163227482}. Best is trial 33 with value: 0.9638404214746017.\n[I 2025-07-05 17:44:33,132] Trial 41 finished with value: 0.9472168875966549 and parameters: {'learning_rate': 0.1937233417224734, 'max_depth': 7, 'max_leaves': 42, 'min_child_weight': 17, 'subsample': 0.5984190663978521, 'colsample_bytree': 0.9363653005627468, 'colsample_bylevel': 0.7601467298179713, 'colsample_bynode': 0.6051597661122766, 'gamma': 0.6508191724265767, 'reg_alpha': 6.322814801834664, 'reg_lambda': 5.041644819389845}. Best is trial 33 with value: 0.9638404214746017.\n[I 2025-07-05 17:44:43,669] Trial 42 finished with value: 0.9515359729543779 and parameters: {'learning_rate': 0.18999111992023016, 'max_depth': 7, 'max_leaves': 40, 'min_child_weight': 17, 'subsample': 0.4920807530963722, 'colsample_bytree': 0.8889610335671225, 'colsample_bylevel': 0.9098864449372936, 'colsample_bynode': 0.7992831613454071, 'gamma': 0.6381410763960524, 'reg_alpha': 5.483325904598697, 'reg_lambda': 11.32233644477649}. Best is trial 33 with value: 0.9638404214746017.\n[I 2025-07-05 17:44:53,592] Trial 43 finished with value: 0.9418331852161106 and parameters: {'learning_rate': 0.1930896284685351, 'max_depth': 7, 'max_leaves': 29, 'min_child_weight': 18, 'subsample': 0.5100541456992063, 'colsample_bytree': 0.8901292456667939, 'colsample_bylevel': 0.9354911812750377, 'colsample_bynode': 0.7947363406082897, 'gamma': 0.7026663035985998, 'reg_alpha': 8.93864186333957, 'reg_lambda': 19.115038854870665}. Best is trial 33 with value: 0.9638404214746017.\n[I 2025-07-05 17:45:02,196] Trial 44 finished with value: 0.8859983142892407 and parameters: {'learning_rate': 0.11176729643937444, 'max_depth': 9, 'max_leaves': 39, 'min_child_weight': 19, 'subsample': 0.5915530686417251, 'colsample_bytree': 0.9808519420092597, 'colsample_bylevel': 0.8935055156196754, 'colsample_bynode': 0.7870844155720785, 'gamma': 3.1817220661034002, 'reg_alpha': 6.906091556369611, 'reg_lambda': 36.11834482677875}. Best is trial 33 with value: 0.9638404214746017.\n[I 2025-07-05 17:45:12,938] Trial 45 finished with value: 0.9498194509894872 and parameters: {'learning_rate': 0.253730354425304, 'max_depth': 9, 'max_leaves': 35, 'min_child_weight': 16, 'subsample': 0.40970167256480816, 'colsample_bytree': 0.8466578416628369, 'colsample_bylevel': 0.9968616002838492, 'colsample_bynode': 0.9796024728829615, 'gamma': 0.5976343966812264, 'reg_alpha': 14.533257964588305, 'reg_lambda': 46.27485789657615}. Best is trial 33 with value: 0.9638404214746017.\n[I 2025-07-05 17:45:22,112] Trial 46 finished with value: 0.9268602319434406 and parameters: {'learning_rate': 0.2360441106880322, 'max_depth': 9, 'max_leaves': 36, 'min_child_weight': 16, 'subsample': 0.36290551440987284, 'colsample_bytree': 0.7213099667674383, 'colsample_bylevel': 0.9850368855947518, 'colsample_bynode': 0.9940640345801117, 'gamma': 1.326811189207965, 'reg_alpha': 14.47426032382637, 'reg_lambda': 52.81272787578284}. Best is trial 33 with value: 0.9638404214746017.\n[I 2025-07-05 17:45:30,553] Trial 47 finished with value: 0.9149260238866661 and parameters: {'learning_rate': 0.2536538732294777, 'max_depth': 8, 'max_leaves': 33, 'min_child_weight': 20, 'subsample': 0.4246813258683545, 'colsample_bytree': 0.9095229461696266, 'colsample_bylevel': 0.8278953898779534, 'colsample_bynode': 0.9167496894290107, 'gamma': 1.7546983774239808, 'reg_alpha': 19.247878118843797, 'reg_lambda': 43.505478055109236}. Best is trial 33 with value: 0.9638404214746017.\n[I 2025-07-05 17:45:41,280] Trial 48 finished with value: 0.944151802964726 and parameters: {'learning_rate': 0.2570933895441646, 'max_depth': 12, 'max_leaves': 42, 'min_child_weight': 16, 'subsample': 0.31055596119124595, 'colsample_bytree': 0.7794747201459362, 'colsample_bylevel': 0.9943499666772508, 'colsample_bynode': 0.9565098648053824, 'gamma': 0.5990730267376064, 'reg_alpha': 23.76451805790589, 'reg_lambda': 51.135705428489814}. Best is trial 33 with value: 0.9638404214746017.\n[I 2025-07-05 17:45:49,921] Trial 49 finished with value: 0.8822861306255065 and parameters: {'learning_rate': 0.11227730331735784, 'max_depth': 5, 'max_leaves': 49, 'min_child_weight': 26, 'subsample': 0.5219979959706033, 'colsample_bytree': 0.641018233460019, 'colsample_bylevel': 0.8960091933838958, 'colsample_bynode': 0.910057678403997, 'gamma': 2.171658591668353, 'reg_alpha': 17.558017052231587, 'reg_lambda': 57.3281992261399}. Best is trial 33 with value: 0.9638404214746017.\n",
          "output_type": "stream"
        },
        {
          "name": "stdout",
          "text": "Best Pearson correlation: 0.9638404214746017\nBest Parameters: {'learning_rate': 0.2138910814136458, 'max_depth': 6, 'max_leaves': 42, 'min_child_weight': 27, 'subsample': 0.9465289683944015, 'colsample_bytree': 0.8710090055413087, 'colsample_bylevel': 0.7793963103875241, 'colsample_bynode': 0.8382256074060366, 'gamma': 0.02743232297636123, 'reg_alpha': 10.640311986292705, 'reg_lambda': 4.167358182384419}\n",
          "output_type": "stream"
        }
      ],
      "execution_count": null
    },
    {
      "cell_type": "code",
      "source": [
        "best_params = study.best_params\n",
        "\n",
        "# Add required non-tuned params\n",
        "best_params.update({\n",
        "    \"tree_method\": \"hist\",\n",
        "    \"device\": \"cuda\",\n",
        "    \"random_state\": 42,\n",
        "    \"n_jobs\": -1,\n",
        "    \"early_stopping_rounds\": 50,\n",
        "    \"eval_metric\": \"rmse\"\n",
        "})\n",
        "\n",
        "final_model = xgb.XGBRegressor(**best_params)\n",
        "final_model.fit(\n",
        "    X_train,\n",
        "    y_train,\n",
        "    eval_set=[(X_valid, y_valid)],\n",
        "    verbose=False\n",
        ")\n"
      ],
      "metadata": {
        "trusted": true,
        "execution": {
          "iopub.status.busy": "2025-07-05T17:45:49.927402Z",
          "iopub.execute_input": "2025-07-05T17:45:49.927706Z",
          "iopub.status.idle": "2025-07-05T17:45:51.455109Z",
          "shell.execute_reply.started": "2025-07-05T17:45:49.927682Z",
          "shell.execute_reply": "2025-07-05T17:45:51.454423Z"
        },
        "id": "Zo-KCOQKyYxm",
        "outputId": "555dbca3-052d-4ada-9440-37278f0795fc"
      },
      "outputs": [
        {
          "execution_count": 72,
          "output_type": "execute_result",
          "data": {
            "text/plain": "XGBRegressor(base_score=None, booster=None, callbacks=None,\n             colsample_bylevel=0.7793963103875241,\n             colsample_bynode=0.8382256074060366,\n             colsample_bytree=0.8710090055413087, device='cuda',\n             early_stopping_rounds=50, enable_categorical=False,\n             eval_metric='rmse', feature_types=None, gamma=0.02743232297636123,\n             grow_policy=None, importance_type=None,\n             interaction_constraints=None, learning_rate=0.2138910814136458,\n             max_bin=None, max_cat_threshold=None, max_cat_to_onehot=None,\n             max_delta_step=None, max_depth=6, max_leaves=42,\n             min_child_weight=27, missing=nan, monotone_constraints=None,\n             multi_strategy=None, n_estimators=None, n_jobs=-1,\n             num_parallel_tree=None, random_state=42, ...)",
            "text/html": "<style>#sk-container-id-9 {color: black;background-color: white;}#sk-container-id-9 pre{padding: 0;}#sk-container-id-9 div.sk-toggleable {background-color: white;}#sk-container-id-9 label.sk-toggleable__label {cursor: pointer;display: block;width: 100%;margin-bottom: 0;padding: 0.3em;box-sizing: border-box;text-align: center;}#sk-container-id-9 label.sk-toggleable__label-arrow:before {content: \"▸\";float: left;margin-right: 0.25em;color: #696969;}#sk-container-id-9 label.sk-toggleable__label-arrow:hover:before {color: black;}#sk-container-id-9 div.sk-estimator:hover label.sk-toggleable__label-arrow:before {color: black;}#sk-container-id-9 div.sk-toggleable__content {max-height: 0;max-width: 0;overflow: hidden;text-align: left;background-color: #f0f8ff;}#sk-container-id-9 div.sk-toggleable__content pre {margin: 0.2em;color: black;border-radius: 0.25em;background-color: #f0f8ff;}#sk-container-id-9 input.sk-toggleable__control:checked~div.sk-toggleable__content {max-height: 200px;max-width: 100%;overflow: auto;}#sk-container-id-9 input.sk-toggleable__control:checked~label.sk-toggleable__label-arrow:before {content: \"▾\";}#sk-container-id-9 div.sk-estimator input.sk-toggleable__control:checked~label.sk-toggleable__label {background-color: #d4ebff;}#sk-container-id-9 div.sk-label input.sk-toggleable__control:checked~label.sk-toggleable__label {background-color: #d4ebff;}#sk-container-id-9 input.sk-hidden--visually {border: 0;clip: rect(1px 1px 1px 1px);clip: rect(1px, 1px, 1px, 1px);height: 1px;margin: -1px;overflow: hidden;padding: 0;position: absolute;width: 1px;}#sk-container-id-9 div.sk-estimator {font-family: monospace;background-color: #f0f8ff;border: 1px dotted black;border-radius: 0.25em;box-sizing: border-box;margin-bottom: 0.5em;}#sk-container-id-9 div.sk-estimator:hover {background-color: #d4ebff;}#sk-container-id-9 div.sk-parallel-item::after {content: \"\";width: 100%;border-bottom: 1px solid gray;flex-grow: 1;}#sk-container-id-9 div.sk-label:hover label.sk-toggleable__label {background-color: #d4ebff;}#sk-container-id-9 div.sk-serial::before {content: \"\";position: absolute;border-left: 1px solid gray;box-sizing: border-box;top: 0;bottom: 0;left: 50%;z-index: 0;}#sk-container-id-9 div.sk-serial {display: flex;flex-direction: column;align-items: center;background-color: white;padding-right: 0.2em;padding-left: 0.2em;position: relative;}#sk-container-id-9 div.sk-item {position: relative;z-index: 1;}#sk-container-id-9 div.sk-parallel {display: flex;align-items: stretch;justify-content: center;background-color: white;position: relative;}#sk-container-id-9 div.sk-item::before, #sk-container-id-9 div.sk-parallel-item::before {content: \"\";position: absolute;border-left: 1px solid gray;box-sizing: border-box;top: 0;bottom: 0;left: 50%;z-index: -1;}#sk-container-id-9 div.sk-parallel-item {display: flex;flex-direction: column;z-index: 1;position: relative;background-color: white;}#sk-container-id-9 div.sk-parallel-item:first-child::after {align-self: flex-end;width: 50%;}#sk-container-id-9 div.sk-parallel-item:last-child::after {align-self: flex-start;width: 50%;}#sk-container-id-9 div.sk-parallel-item:only-child::after {width: 0;}#sk-container-id-9 div.sk-dashed-wrapped {border: 1px dashed gray;margin: 0 0.4em 0.5em 0.4em;box-sizing: border-box;padding-bottom: 0.4em;background-color: white;}#sk-container-id-9 div.sk-label label {font-family: monospace;font-weight: bold;display: inline-block;line-height: 1.2em;}#sk-container-id-9 div.sk-label-container {text-align: center;}#sk-container-id-9 div.sk-container {/* jupyter's `normalize.less` sets `[hidden] { display: none; }` but bootstrap.min.css set `[hidden] { display: none !important; }` so we also need the `!important` here to be able to override the default hidden behavior on the sphinx rendered scikit-learn.org. See: https://github.com/scikit-learn/scikit-learn/issues/21755 */display: inline-block !important;position: relative;}#sk-container-id-9 div.sk-text-repr-fallback {display: none;}</style><div id=\"sk-container-id-9\" class=\"sk-top-container\"><div class=\"sk-text-repr-fallback\"><pre>XGBRegressor(base_score=None, booster=None, callbacks=None,\n             colsample_bylevel=0.7793963103875241,\n             colsample_bynode=0.8382256074060366,\n             colsample_bytree=0.8710090055413087, device=&#x27;cuda&#x27;,\n             early_stopping_rounds=50, enable_categorical=False,\n             eval_metric=&#x27;rmse&#x27;, feature_types=None, gamma=0.02743232297636123,\n             grow_policy=None, importance_type=None,\n             interaction_constraints=None, learning_rate=0.2138910814136458,\n             max_bin=None, max_cat_threshold=None, max_cat_to_onehot=None,\n             max_delta_step=None, max_depth=6, max_leaves=42,\n             min_child_weight=27, missing=nan, monotone_constraints=None,\n             multi_strategy=None, n_estimators=None, n_jobs=-1,\n             num_parallel_tree=None, random_state=42, ...)</pre><b>In a Jupyter environment, please rerun this cell to show the HTML representation or trust the notebook. <br />On GitHub, the HTML representation is unable to render, please try loading this page with nbviewer.org.</b></div><div class=\"sk-container\" hidden><div class=\"sk-item\"><div class=\"sk-estimator sk-toggleable\"><input class=\"sk-toggleable__control sk-hidden--visually\" id=\"sk-estimator-id-9\" type=\"checkbox\" checked><label for=\"sk-estimator-id-9\" class=\"sk-toggleable__label sk-toggleable__label-arrow\">XGBRegressor</label><div class=\"sk-toggleable__content\"><pre>XGBRegressor(base_score=None, booster=None, callbacks=None,\n             colsample_bylevel=0.7793963103875241,\n             colsample_bynode=0.8382256074060366,\n             colsample_bytree=0.8710090055413087, device=&#x27;cuda&#x27;,\n             early_stopping_rounds=50, enable_categorical=False,\n             eval_metric=&#x27;rmse&#x27;, feature_types=None, gamma=0.02743232297636123,\n             grow_policy=None, importance_type=None,\n             interaction_constraints=None, learning_rate=0.2138910814136458,\n             max_bin=None, max_cat_threshold=None, max_cat_to_onehot=None,\n             max_delta_step=None, max_depth=6, max_leaves=42,\n             min_child_weight=27, missing=nan, monotone_constraints=None,\n             multi_strategy=None, n_estimators=None, n_jobs=-1,\n             num_parallel_tree=None, random_state=42, ...)</pre></div></div></div></div></div>"
          },
          "metadata": {}
        }
      ],
      "execution_count": null
    },
    {
      "cell_type": "code",
      "source": [
        "#XGboost preds\n",
        "preds_X_valid = final_model.predict(X_valid)\n",
        "preds_X_train = final_model.predict(X_train)\n",
        "preds_X_test = final_model.predict(X_test)"
      ],
      "metadata": {
        "trusted": true,
        "execution": {
          "iopub.status.busy": "2025-07-05T17:45:51.455887Z",
          "iopub.execute_input": "2025-07-05T17:45:51.456089Z",
          "iopub.status.idle": "2025-07-05T17:45:52.031961Z",
          "shell.execute_reply.started": "2025-07-05T17:45:51.456074Z",
          "shell.execute_reply": "2025-07-05T17:45:52.031416Z"
        },
        "id": "Pli24YNjyYxm"
      },
      "outputs": [],
      "execution_count": null
    },
    {
      "cell_type": "code",
      "source": [
        "#feature augmentation\n",
        "\n",
        "X_train_combined=X_train.copy()\n",
        "X_train_combined[\"xg_pred\"]=preds_X_train\n",
        "\n",
        "X_valid_combined=X_valid.copy()\n",
        "X_valid_combined[\"xg_pred\"]=preds_X_valid\n",
        "\n",
        "X_test_combined=X_test.copy()\n",
        "X_test_combined[\"xg_pred\"]=preds_X_test"
      ],
      "metadata": {
        "trusted": true,
        "execution": {
          "iopub.status.busy": "2025-07-05T17:45:52.034742Z",
          "iopub.execute_input": "2025-07-05T17:45:52.035148Z",
          "iopub.status.idle": "2025-07-05T17:45:52.218953Z",
          "shell.execute_reply.started": "2025-07-05T17:45:52.03513Z",
          "shell.execute_reply": "2025-07-05T17:45:52.218085Z"
        },
        "id": "g7hqMAv8yYxn"
      },
      "outputs": [],
      "execution_count": null
    },
    {
      "cell_type": "code",
      "source": [
        "# fit SGD\n",
        "sgd = SGDRegressor(max_iter=500, tol = 1e-3, random_state=42)\n",
        "sgd.fit(X_train_combined, y_train)"
      ],
      "metadata": {
        "trusted": true,
        "execution": {
          "iopub.status.busy": "2025-07-05T17:45:52.219872Z",
          "iopub.execute_input": "2025-07-05T17:45:52.220166Z",
          "iopub.status.idle": "2025-07-05T17:45:52.814943Z",
          "shell.execute_reply.started": "2025-07-05T17:45:52.220141Z",
          "shell.execute_reply": "2025-07-05T17:45:52.814297Z"
        },
        "id": "PDms5aZ-yYxn",
        "outputId": "753d6111-9480-4831-814f-cd19451737ae"
      },
      "outputs": [
        {
          "execution_count": 75,
          "output_type": "execute_result",
          "data": {
            "text/plain": "SGDRegressor(max_iter=500, random_state=42)",
            "text/html": "<style>#sk-container-id-10 {color: black;background-color: white;}#sk-container-id-10 pre{padding: 0;}#sk-container-id-10 div.sk-toggleable {background-color: white;}#sk-container-id-10 label.sk-toggleable__label {cursor: pointer;display: block;width: 100%;margin-bottom: 0;padding: 0.3em;box-sizing: border-box;text-align: center;}#sk-container-id-10 label.sk-toggleable__label-arrow:before {content: \"▸\";float: left;margin-right: 0.25em;color: #696969;}#sk-container-id-10 label.sk-toggleable__label-arrow:hover:before {color: black;}#sk-container-id-10 div.sk-estimator:hover label.sk-toggleable__label-arrow:before {color: black;}#sk-container-id-10 div.sk-toggleable__content {max-height: 0;max-width: 0;overflow: hidden;text-align: left;background-color: #f0f8ff;}#sk-container-id-10 div.sk-toggleable__content pre {margin: 0.2em;color: black;border-radius: 0.25em;background-color: #f0f8ff;}#sk-container-id-10 input.sk-toggleable__control:checked~div.sk-toggleable__content {max-height: 200px;max-width: 100%;overflow: auto;}#sk-container-id-10 input.sk-toggleable__control:checked~label.sk-toggleable__label-arrow:before {content: \"▾\";}#sk-container-id-10 div.sk-estimator input.sk-toggleable__control:checked~label.sk-toggleable__label {background-color: #d4ebff;}#sk-container-id-10 div.sk-label input.sk-toggleable__control:checked~label.sk-toggleable__label {background-color: #d4ebff;}#sk-container-id-10 input.sk-hidden--visually {border: 0;clip: rect(1px 1px 1px 1px);clip: rect(1px, 1px, 1px, 1px);height: 1px;margin: -1px;overflow: hidden;padding: 0;position: absolute;width: 1px;}#sk-container-id-10 div.sk-estimator {font-family: monospace;background-color: #f0f8ff;border: 1px dotted black;border-radius: 0.25em;box-sizing: border-box;margin-bottom: 0.5em;}#sk-container-id-10 div.sk-estimator:hover {background-color: #d4ebff;}#sk-container-id-10 div.sk-parallel-item::after {content: \"\";width: 100%;border-bottom: 1px solid gray;flex-grow: 1;}#sk-container-id-10 div.sk-label:hover label.sk-toggleable__label {background-color: #d4ebff;}#sk-container-id-10 div.sk-serial::before {content: \"\";position: absolute;border-left: 1px solid gray;box-sizing: border-box;top: 0;bottom: 0;left: 50%;z-index: 0;}#sk-container-id-10 div.sk-serial {display: flex;flex-direction: column;align-items: center;background-color: white;padding-right: 0.2em;padding-left: 0.2em;position: relative;}#sk-container-id-10 div.sk-item {position: relative;z-index: 1;}#sk-container-id-10 div.sk-parallel {display: flex;align-items: stretch;justify-content: center;background-color: white;position: relative;}#sk-container-id-10 div.sk-item::before, #sk-container-id-10 div.sk-parallel-item::before {content: \"\";position: absolute;border-left: 1px solid gray;box-sizing: border-box;top: 0;bottom: 0;left: 50%;z-index: -1;}#sk-container-id-10 div.sk-parallel-item {display: flex;flex-direction: column;z-index: 1;position: relative;background-color: white;}#sk-container-id-10 div.sk-parallel-item:first-child::after {align-self: flex-end;width: 50%;}#sk-container-id-10 div.sk-parallel-item:last-child::after {align-self: flex-start;width: 50%;}#sk-container-id-10 div.sk-parallel-item:only-child::after {width: 0;}#sk-container-id-10 div.sk-dashed-wrapped {border: 1px dashed gray;margin: 0 0.4em 0.5em 0.4em;box-sizing: border-box;padding-bottom: 0.4em;background-color: white;}#sk-container-id-10 div.sk-label label {font-family: monospace;font-weight: bold;display: inline-block;line-height: 1.2em;}#sk-container-id-10 div.sk-label-container {text-align: center;}#sk-container-id-10 div.sk-container {/* jupyter's `normalize.less` sets `[hidden] { display: none; }` but bootstrap.min.css set `[hidden] { display: none !important; }` so we also need the `!important` here to be able to override the default hidden behavior on the sphinx rendered scikit-learn.org. See: https://github.com/scikit-learn/scikit-learn/issues/21755 */display: inline-block !important;position: relative;}#sk-container-id-10 div.sk-text-repr-fallback {display: none;}</style><div id=\"sk-container-id-10\" class=\"sk-top-container\"><div class=\"sk-text-repr-fallback\"><pre>SGDRegressor(max_iter=500, random_state=42)</pre><b>In a Jupyter environment, please rerun this cell to show the HTML representation or trust the notebook. <br />On GitHub, the HTML representation is unable to render, please try loading this page with nbviewer.org.</b></div><div class=\"sk-container\" hidden><div class=\"sk-item\"><div class=\"sk-estimator sk-toggleable\"><input class=\"sk-toggleable__control sk-hidden--visually\" id=\"sk-estimator-id-10\" type=\"checkbox\" checked><label for=\"sk-estimator-id-10\" class=\"sk-toggleable__label sk-toggleable__label-arrow\">SGDRegressor</label><div class=\"sk-toggleable__content\"><pre>SGDRegressor(max_iter=500, random_state=42)</pre></div></div></div></div></div>"
          },
          "metadata": {}
        }
      ],
      "execution_count": null
    },
    {
      "cell_type": "code",
      "source": [
        "#final preds\n",
        "preds = sgd.predict(X_test_combined)\n",
        "print(len(preds))"
      ],
      "metadata": {
        "trusted": true,
        "execution": {
          "iopub.status.busy": "2025-07-05T17:45:52.832044Z",
          "iopub.execute_input": "2025-07-05T17:45:52.83226Z",
          "iopub.status.idle": "2025-07-05T17:45:52.884525Z",
          "shell.execute_reply.started": "2025-07-05T17:45:52.832244Z",
          "shell.execute_reply": "2025-07-05T17:45:52.883793Z"
        },
        "id": "vXcoVHviyYxn",
        "outputId": "73943296-3eb4-4292-cb1f-a3cfbb149d21"
      },
      "outputs": [
        {
          "name": "stdout",
          "text": "538150\n",
          "output_type": "stream"
        }
      ],
      "execution_count": null
    },
    {
      "cell_type": "code",
      "source": [
        "# printtttt !!!!\n",
        "print(preds)"
      ],
      "metadata": {
        "trusted": true,
        "execution": {
          "iopub.status.busy": "2025-07-05T17:45:52.885509Z",
          "iopub.execute_input": "2025-07-05T17:45:52.885766Z",
          "iopub.status.idle": "2025-07-05T17:45:52.88996Z",
          "shell.execute_reply.started": "2025-07-05T17:45:52.88574Z",
          "shell.execute_reply": "2025-07-05T17:45:52.889288Z"
        },
        "id": "71iXGColyYxn",
        "outputId": "7a329797-b2a0-45f6-bec6-f70e9e6ab278"
      },
      "outputs": [
        {
          "name": "stdout",
          "text": "[-0.57604167  0.92263589  0.23959578 ...  0.16210565 -1.11081578\n  0.31898413]\n",
          "output_type": "stream"
        }
      ],
      "execution_count": null
    },
    {
      "cell_type": "code",
      "source": [
        "# more checking :0 for improvements ( meh )\n",
        "# Out-of-fold XGBoost predictions\n",
        "kf = KFold(n_splits=5, shuffle=True, random_state=42)\n",
        "oof_preds = np.zeros(len(X_train))\n",
        "\n",
        "for train_idx, valid_idx in kf.split(X_train):\n",
        "    model = xgb.XGBRegressor(**best_params)\n",
        "    model.fit(X_train.iloc[train_idx], y_train.iloc[train_idx],\n",
        "              eval_set=[(X_train.iloc[valid_idx], y_train.iloc[valid_idx])],\n",
        "              verbose=False)\n",
        "    oof_preds[valid_idx] = model.predict(X_train.iloc[valid_idx])\n",
        "\n",
        "X_train_combined = X_train.copy()\n",
        "X_train_combined[\"xg_pred\"] = oof_preds\n",
        "\n",
        "# Fit final XGBoost on all training data for test predictions\n",
        "final_model = xgb.XGBRegressor(**best_params)\n",
        "final_model.fit(X_train, y_train, eval_set=[(X_valid, y_valid)], verbose=False)\n",
        "X_valid_combined = X_valid.copy()\n",
        "X_valid_combined[\"xg_pred\"] = final_model.predict(X_valid)\n",
        "X_test_combined = X_test.copy()\n",
        "X_test_combined[\"xg_pred\"] = final_model.predict(X_test)\n",
        "\n",
        "# Scale features for SGD\n",
        "scaler = StandardScaler()\n",
        "X_train_scaled = scaler.fit_transform(X_train_combined)\n",
        "X_valid_scaled = scaler.transform(X_valid_combined)\n",
        "X_test_scaled = scaler.transform(X_test_combined)\n",
        "\n",
        "# SGD model\n",
        "sgd = SGDRegressor(max_iter=1000, tol=1e-3, random_state=42)\n",
        "sgd.fit(X_train_scaled, y_train)\n",
        "preds = sgd.predict(X_test_scaled)\n",
        "\n",
        "# Submission\n",
        "submission = pd.read_csv(\"/kaggle/input/drw-crypto-market-prediction/sample_submission.csv\")\n",
        "submission[\"prediction\"] = preds\n",
        "submission.to_csv(\"submission.csv\", index=False)"
      ],
      "metadata": {
        "trusted": true,
        "execution": {
          "iopub.status.busy": "2025-07-05T17:50:32.722792Z",
          "iopub.execute_input": "2025-07-05T17:50:32.723668Z",
          "iopub.status.idle": "2025-07-05T17:50:43.715925Z",
          "shell.execute_reply.started": "2025-07-05T17:50:32.723645Z",
          "shell.execute_reply": "2025-07-05T17:50:43.715114Z"
        },
        "id": "KtiQv5kMyYxo"
      },
      "outputs": [],
      "execution_count": null
    },
    {
      "cell_type": "code",
      "source": [],
      "metadata": {
        "trusted": true,
        "execution": {
          "iopub.status.busy": "2025-07-05T17:58:34.79766Z",
          "iopub.execute_input": "2025-07-05T17:58:34.798543Z",
          "iopub.status.idle": "2025-07-05T17:58:35.109858Z",
          "shell.execute_reply.started": "2025-07-05T17:58:34.798515Z",
          "shell.execute_reply": "2025-07-05T17:58:35.108998Z"
        },
        "id": "v2CulK5ZyYxo"
      },
      "outputs": [],
      "execution_count": null
    }
  ]
}